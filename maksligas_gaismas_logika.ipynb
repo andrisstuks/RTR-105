{
 "cells": [
  {
   "cell_type": "code",
   "execution_count": 1,
   "metadata": {},
   "outputs": [],
   "source": [
    "import requests\n",
    "import json\n",
    "import time"
   ]
  },
  {
   "cell_type": "code",
   "execution_count": null,
   "metadata": {},
   "outputs": [],
   "source": [
    "# Risinam gaismas ieslēgšanu - siltumnīcā ir uzstādītas nātrija lampas, ir zināma augiem nepieciešamā gaismas summa\n",
    "# Cenšamies nesavākt vairāk gaismu, kā nepieciešams\n",
    "\n",
    "global light_status_on\n",
    "global nat_compare\n",
    "global lightsum\n",
    "global lightsum_lim\n",
    "global off_tresh # Izslēgšanās limits\n",
    "global off_counter # izslēgšanās laika skaitītājs\n",
    "global on_off_lim # laika limits cik lampām jābūt ieslēgr\\tām/izslēgtām\n",
    "global on_tresh # atkārtotas ieslēgšanās limits\n",
    "global on_counter\n",
    "\n",
    "sleep=60\n",
    "light_status_on=True # Mākslīgo gaismu -lampu ielēgšanās status, tiks caur I2C izvadīts uz releju gaismu darbināšanai\n",
    "nat_compare=0 # Dabīgās gaismas līmenis\n",
    "lightsum=0 #  kopējā gaismas summa, vēlāk nonuļļosim jaunas dienas sākumā\n",
    "art_umol=0.0102 # Akumulētā gaismas summa pie 60sek darbības, jo uzstādīti 170umol/m2/s\n",
    "natk=60 # sekundes minūtē, to izmantojam, jo var būt sensors, kur lasījumus nodod reizi 2 minūtēs -> 120sek\n",
    "lightsum_lim=15 # Gaismas summas limits - sasniedzot 15 mol gaismas, lampas dedzināt nav nepieciešams\n",
    "off_tresh=400 # Izslēgšanās limits, dabīgā gaisma umol/m2/s\n",
    "off_counter=0 # izslēgšanās laika skaitītājs līdz brīdim kad var ieslēgt\n",
    "on_off_lim=15 # Lampu izslēgšanas - ieslēgšanas laika limits - lampas pirms atkārtotas ieslēgšanas jaatdzesē 15 min, tā pat jauzsilda 15 min\n",
    "on_tresh=300 # Atpakaļ ieslēgšanās limits, dabīgā gaisma umol/m2/s? pie kuras, ja nav savākta gaismas summa, lampas ieslēdzās\n",
    "on_counter=0 # ieslēgšanās skaitītājs līdz brīdim kad var izslēgt"
   ]
  },
  {
   "cell_type": "code",
   "execution_count": null,
   "metadata": {},
   "outputs": [],
   "source": [
    "# Norādam interesējošo sensoru url\n",
    "natu='http://127.0.0.1:80/last/sensornum'\n",
    "top_h='http://127.0.0.1:80/last/sensornum'\n",
    "top_a='http://127.0.0.1:80/last/sensornum'\n",
    "toplight=[top_h,top_a]"
   ]
  },
  {
   "cell_type": "code",
   "execution_count": null,
   "metadata": {},
   "outputs": [],
   "source": [
    "# Sensora rādījuma pieprasījums\n",
    "def get_data(url):\n",
    "    resp=requests.get(url) #Saņemam atbildi\n",
    "    data=resp.json() # izmantojam json atbildi\n",
    "    num=data[0]['v'] # Paņemam nepieciešamo vērtību - tā kā šajā procesā intersē tikai sensora rādījums - to arī ņemam\n",
    "    return num # Atgriežam vērtību"
   ]
  },
  {
   "cell_type": "code",
   "execution_count": null,
   "metadata": {},
   "outputs": [],
   "source": [
    "def cumlightsum():\n",
    "    global lightsum # Izmantosim mainīgo globālajā līmenī\n",
    "    global nat_compare # dabīgās gaismas līmeni salīdzināšanai saglabājam globālajā mainīgajā\n",
    "    for url in toplight: # Mākslīgajai gaismai izveidojām sarakstu, lai īsāks kods\n",
    "        num=get_data(url) \n",
    "        if num>1:\n",
    "            lightsum+=art_umol # Tā kā pie ieslēgtas pozīcijas (virs 1 volta) ir zināma gaismas summa, ko saražo, to pieskaitam\n",
    "        else:\n",
    "            continue\n",
    "    nat_level=get_data(natu) # Paņemam dabīgās gaismas līmeni\n",
    "    lightsum+=nat_level*natk # Tā kā sensora lasījumi jau ir molos, to reizinam ar sekundēm.\n",
    "    nat_compare=nat_level*1000000 # Priekš salīdzināšanas vajag no moliem pāriet uz mikromoliem"
   ]
  },
  {
   "cell_type": "code",
   "execution_count": null,
   "metadata": {},
   "outputs": [],
   "source": [
    "# Vienkāršākā daļa. šo vēlāk izmantošu pie laika loga kā vienu no izpildāmajām funkcijām, kur \n",
    "# definīcijas apgabals būs laika robežas no līdz, un gaismas summa nonuļļosies automātiski\n",
    "def on_off_status():\n",
    "    global lightsum\n",
    "    global light_status_on\n",
    "    global light_status_on\n",
    "    global lightsum_lim\n",
    "    global off_tresh\n",
    "    global off_counter\n",
    "    global on_off_lim\n",
    "    global on_tresh\n",
    "    global on_counter\n",
    "    \n",
    "    if lightsum>lightsum_lim and light_status_on==True:\n",
    "        if on_counter>on_off_lim:\n",
    "            light_status_on=False\n",
    "            off_counter+=1\n",
    "            on_counter=0\n",
    "        else:\n",
    "            on_counter+=1\n",
    "            off_counter=0\n",
    "    elif nat_compare>off_tresh and light_status_on==True:\n",
    "        if on_counter>on_off_lim:\n",
    "            light_status_on=False\n",
    "            off_counter+=1\n",
    "            on_counter=0\n",
    "        else:\n",
    "            on_counter+=1\n",
    "            off_counter=0\n",
    "    elif nat_compare<on_tresh and light_status_on==False and lightsum<lightsum_lim:\n",
    "        if off_counter>on_off_lim:\n",
    "            light_status_on=True\n",
    "            on_counter+=1\n",
    "            off_counter=0\n",
    "        else:\n",
    "            on_counter+=1\n",
    "            off_counter=0\n",
    "    elif light_status_on==False:\n",
    "        on_counter=0\n",
    "        off_counter+=1\n",
    "    else:\n",
    "        on_counter+=1\n",
    "        off_counter=0"
   ]
  },
  {
   "cell_type": "code",
   "execution_count": null,
   "metadata": {},
   "outputs": [],
   "source": [
    "# Palaižam mūžīgajā cilpā. Rakstot py failā uzrakstīšu citus pārtraukšanas noteikumus.\n",
    "while True:\n",
    "    try:\n",
    "        cumlightsum()\n",
    "        on_off_status()\n",
    "        print(\"Gaismas summa ir {:0.2f}, status ir {}, on_count: {}, off_count:{}\".format(lightsum,light_status_on, on_counter, off_counter))\n",
    "        time.sleep(sleep)\n",
    "    except:\n",
    "        print(\"Kaut kas nogājis greizi, vajadzētu aizdomāties kas ne tā!\")\n",
    "        break"
   ]
  },
  {
   "cell_type": "code",
   "execution_count": null,
   "metadata": {},
   "outputs": [],
   "source": []
  }
 ],
 "metadata": {
  "kernelspec": {
   "display_name": "Python 3",
   "language": "python",
   "name": "python3"
  },
  "language_info": {
   "codemirror_mode": {
    "name": "ipython",
    "version": 3
   },
   "file_extension": ".py",
   "mimetype": "text/x-python",
   "name": "python",
   "nbconvert_exporter": "python",
   "pygments_lexer": "ipython3",
   "version": "3.8.2"
  }
 },
 "nbformat": 4,
 "nbformat_minor": 4
}
